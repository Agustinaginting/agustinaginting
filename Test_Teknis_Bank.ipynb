{
  "nbformat": 4,
  "nbformat_minor": 0,
  "metadata": {
    "colab": {
      "provenance": []
    },
    "kernelspec": {
      "name": "python3",
      "display_name": "Python 3"
    },
    "language_info": {
      "name": "python"
    }
  },
  "cells": [
    {
      "cell_type": "markdown",
      "source": [
        "Contoh soal: Diberikan array dengan panjang\n",
        "𝑛\n",
        "n yang berisi angka-angka berturut-turut dari 1 hingga\n",
        "𝑛\n",
        "+\n",
        "1\n",
        "n+1, tetapi satu angka hilang. Temukan angka yang hilang.\n",
        "\n",
        "Solusi dengan Python:"
      ],
      "metadata": {
        "id": "sf-a2EhBqb5T"
      }
    },
    {
      "cell_type": "code",
      "source": [
        "def find_missing_element(arr):\n",
        "    n = len(arr) + 1  # panjang array asli adalah n+1\n",
        "    expected_sum = (n * (n + 1)) // 2  # jumlah total dari 1 hingga n+1\n",
        "    actual_sum = sum(arr)  # jumlah dari array yang diberikan\n",
        "    return expected_sum - actual_sum  # angka yang hilang\n",
        "\n",
        "# Contoh penggunaan\n",
        "arr = [2, 3, 1, 5]\n",
        "print(find_missing_element(arr))  # Output: 4\n"
      ],
      "metadata": {
        "colab": {
          "base_uri": "https://localhost:8080/"
        },
        "id": "ObKVt2TNqheS",
        "outputId": "6b81e554-c111-4bef-cd85-a406f4d54c17"
      },
      "execution_count": null,
      "outputs": [
        {
          "output_type": "stream",
          "name": "stdout",
          "text": [
            "4\n"
          ]
        }
      ]
    },
    {
      "cell_type": "markdown",
      "source": [
        "Contoh soal: Diberikan array dengan pasangan angka yang muncul dua kali, kecuali satu angka yang hanya muncul satu kali. Temukan angka yang muncul satu kali.\n",
        "\n",
        "Solusi dengan Python:"
      ],
      "metadata": {
        "id": "xbusEaXcqyhc"
      }
    },
    {
      "cell_type": "code",
      "source": [
        "def find_unpaired(arr):\n",
        "    result = 0\n",
        "    for num in arr:\n",
        "        result ^= num  # XOR akan menghilangkan pasangan\n",
        "    return result\n",
        "\n",
        "# Contoh penggunaan\n",
        "arr = [9, 3, 9, 3, 9, 7, 9]\n",
        "print(find_unpaired(arr))  # Output: 7\n"
      ],
      "metadata": {
        "colab": {
          "base_uri": "https://localhost:8080/"
        },
        "id": "HTcJYON1qqP3",
        "outputId": "e68347eb-3353-4730-d0e4-87e17ee9ea39"
      },
      "execution_count": null,
      "outputs": [
        {
          "output_type": "stream",
          "name": "stdout",
          "text": [
            "7\n"
          ]
        }
      ]
    },
    {
      "cell_type": "markdown",
      "source": [
        "Contoh soal: Diberikan array yang berisi angka 0 dan 1, di mana 0 menunjukkan mobil yang bergerak ke arah barat dan 1 menunjukkan mobil yang bergerak ke arah timur. Hitung berapa banyak pasangan mobil yang bergerak saling berlawanan arah.\n",
        "\n",
        "Solusi dengan Python:"
      ],
      "metadata": {
        "id": "l7zYkmMqq4vC"
      }
    },
    {
      "cell_type": "code",
      "source": [
        "def passing_cars(arr):\n",
        "    count = 0\n",
        "    east_cars = 0  # jumlah mobil yang bergerak ke timur\n",
        "    for car in arr:\n",
        "        if car == 1:\n",
        "            east_cars += 1  # setiap mobil timur ditambah\n",
        "        elif car == 0:\n",
        "            count += east_cars  # setiap mobil barat yang ditemukan, hitung pasangan\n",
        "    return count\n",
        "\n",
        "# Contoh penggunaan\n",
        "arr = [0, 1, 0, 1, 1]\n",
        "print(passing_cars(arr))  # Output: 5\n"
      ],
      "metadata": {
        "colab": {
          "base_uri": "https://localhost:8080/"
        },
        "id": "_-0cG-4Bq6dB",
        "outputId": "596260c4-cd3b-48cd-c9d2-5dff8590e1ef"
      },
      "execution_count": null,
      "outputs": [
        {
          "output_type": "stream",
          "name": "stdout",
          "text": [
            "1\n"
          ]
        }
      ]
    },
    {
      "cell_type": "markdown",
      "source": [
        "##ITERATIONS BINARYGap\n",
        "Find longest sequence of zeros in binary representation of an integer"
      ],
      "metadata": {
        "id": "e55yNAxMzxOX"
      }
    },
    {
      "cell_type": "markdown",
      "source": [
        "A binary gap within a positive integer N is any maximal sequence of consecutive zeros that is surrounded by ones at both ends in the binary representation of N.\n",
        "\n",
        "For example, number 9 has binary representation 1001 and contains a binary gap of length 2. The number 529 has binary representation 1000010001 and contains two binary gaps: one of length 4 and one of length 3. The number 20 has binary representation 10100 and contains one binary gap of length 1. The number 15 has binary representation 1111 and has no binary gaps. The number 32 has binary representation 100000 and has no binary gaps.\n",
        "\n",
        "Write a function:\n",
        "\n",
        "def solution(N)\n",
        "\n",
        "that, given a positive integer N, returns the length of its longest binary gap. The function should return 0 if N doesn't contain a binary gap.\n",
        "\n",
        "For example, given N = 1041 the function should return 5, because N has binary representation 10000010001 and so its longest binary gap is of length 5. Given N = 32 the function should return 0, because N has binary representation '100000' and thus no binary gaps.\n",
        "\n",
        "Write an efficient algorithm for the following assumptions:\n",
        "\n",
        "N is an integer within the range [1..2,147,483,647].\n",
        "\n",
        "------------------------------------------\n",
        "\n",
        "Celah biner dalam bilangan bulat positif N adalah setiap deret maksimal dari angka nol berurutan yang dikelilingi oleh angka satu di kedua ujungnya dalam representasi biner N.\n",
        "\n",
        "Misalnya, angka 9 memiliki representasi biner 1001 dan berisi celah biner sepanjang 2. Angka 529 memiliki representasi biner 1000010001 dan berisi dua celah biner: satu sepanjang 4 dan satu sepanjang 3. Angka 20 memiliki representasi biner 10100 dan berisi satu celah biner sepanjang 1. Angka 15 memiliki representasi biner 1111 dan tidak memiliki celah biner. Angka 32 memiliki representasi biner 100000 dan tidak memiliki celah biner.\n",
        "\n",
        "Tuliskan sebuah fungsi:\n",
        "\n",
        "def solution(N)\n",
        "\n",
        "yang, jika diberikan bilangan bulat positif N, mengembalikan panjang celah biner terpanjangnya. Fungsi tersebut harus mengembalikan 0 jika N tidak berisi celah biner.\n",
        "\n",
        "Misalnya, jika diberikan N = 1041, fungsi tersebut harus mengembalikan 5, karena N memiliki representasi biner 10000010001 dan celah biner terpanjangnya adalah sepanjang 5. Jika diberikan N = 32, fungsi tersebut harus mengembalikan 0, karena N memiliki representasi biner '100000' dan dengan demikian tidak ada celah biner.\n",
        "\n",
        "Tulis algoritma yang efisien untuk asumsi berikut:\n",
        "\n",
        "N adalah bilangan bulat dalam rentang [1..2,147,483,647]."
      ],
      "metadata": {
        "id": "RhbbaXVqw0jg"
      }
    },
    {
      "cell_type": "code",
      "source": [
        "def solution(N):\n",
        "    # Convert the number to its binary representation and remove the \"0b\" prefix\n",
        "    binary_representation = bin(N)[2:]\n",
        "\n",
        "    # Split the binary representation by '1' to find sequences of '0'\n",
        "    gaps = binary_representation.strip('0').split('1')\n",
        "\n",
        "    # Return the length of the longest gap\n",
        "    return max((len(gap) for gap in gaps), default=0)\n",
        "\n",
        "# Test cases\n",
        "print(solution(1041))  # Output: 5\n",
        "print(solution(647))    # Output: 0\n",
        "print(solution(529))   # Output: 4\n",
        "print(solution(20))    # Output: 1\n",
        "print(solution(15))    # Output: 0\n"
      ],
      "metadata": {
        "colab": {
          "base_uri": "https://localhost:8080/"
        },
        "id": "ZaJbgWf1w2k0",
        "outputId": "cab8907b-a01a-4fdc-d28c-eef0b624eca3"
      },
      "execution_count": null,
      "outputs": [
        {
          "output_type": "stream",
          "name": "stdout",
          "text": [
            "5\n",
            "4\n",
            "4\n",
            "1\n",
            "0\n"
          ]
        }
      ]
    },
    {
      "cell_type": "code",
      "source": [
        "def solution(N):\n",
        "    max_gap = 0  # Variabel untuk menyimpan panjang gap terpanjang\n",
        "    current_gap = 0  # Variabel untuk menghitung panjang gap saat ini\n",
        "    found_one = False  # Flag untuk menandai apakah '1' sudah ditemukan\n",
        "\n",
        "    while N > 0:\n",
        "        if N & 1:  # Jika bit paling kanan adalah '1'\n",
        "            if found_one:  # Jika sebelumnya ada '1'\n",
        "                max_gap = max(max_gap, current_gap)  # Perbarui max_gap\n",
        "            current_gap = 0  # Reset current_gap\n",
        "            found_one = True  # Tandai bahwa '1' telah ditemukan\n",
        "        else:  # Jika bit paling kanan adalah '0'\n",
        "            if found_one:  # Hanya hitung gap jika sudah menemukan '1'\n",
        "                current_gap += 1\n",
        "        N >>= 1  # Geser bit ke kanan untuk memproses bit berikutnya\n",
        "\n",
        "    return max_gap\n",
        "\n",
        "# Test cases\n",
        "print(solution(1))\n",
        "print(solution(2))\n",
        "print(solution(10))\n",
        "print(solution(22))\n",
        "print(solution(54))\n",
        "print(solution(69))\n",
        "print(solution(99))\n",
        "print(solution(126))\n",
        "print(solution(147))\n",
        "print(solution(483))\n",
        "print(solution(647))\n"
      ],
      "metadata": {
        "colab": {
          "base_uri": "https://localhost:8080/"
        },
        "id": "ZRFhOCzjypee",
        "outputId": "2de3e0a1-bf80-4c89-efc4-a93995cde2ab"
      },
      "execution_count": null,
      "outputs": [
        {
          "output_type": "stream",
          "name": "stdout",
          "text": [
            "0\n",
            "0\n",
            "1\n",
            "1\n",
            "1\n",
            "3\n",
            "3\n",
            "0\n",
            "2\n",
            "3\n",
            "4\n"
          ]
        }
      ]
    },
    {
      "cell_type": "markdown",
      "source": [
        "##ARRAY"
      ],
      "metadata": {
        "id": "UldE_A1U0NIj"
      }
    },
    {
      "cell_type": "markdown",
      "source": [
        "###CyclicRotation\n",
        "Rotate an array to the right by a given number of steps."
      ],
      "metadata": {
        "id": "Q8KWP38K1jg6"
      }
    },
    {
      "cell_type": "markdown",
      "source": [
        "An array A consisting of N integers is given. Rotation of the array means that each element is shifted right by one index, and the last element of the array is moved to the first place. For example, the rotation of array A = [3, 8, 9, 7, 6] is [6, 3, 8, 9, 7] (elements are shifted right by one index and 6 is moved to the first place).\n",
        "\n",
        "The goal is to rotate array A K times; that is, each element of A will be shifted to the right K times.\n",
        "\n",
        "Write a function:\n",
        "\n",
        "def solution(A, K)\n",
        "\n",
        "that, given an array A consisting of N integers and an integer K, returns the array A rotated K times.\n",
        "\n",
        "For example, given\n",
        "\n",
        "    A = [3, 8, 9, 7, 6]\n",
        "    K = 3\n",
        "the function should return [9, 7, 6, 3, 8]. Three rotations were made:\n",
        "\n",
        "    [3, 8, 9, 7, 6] -> [6, 3, 8, 9, 7]\n",
        "    [6, 3, 8, 9, 7] -> [7, 6, 3, 8, 9]\n",
        "    [7, 6, 3, 8, 9] -> [9, 7, 6, 3, 8]\n",
        "For another example, given\n",
        "\n",
        "    A = [0, 0, 0]\n",
        "    K = 1\n",
        "the function should return [0, 0, 0]\n",
        "\n",
        "Given\n",
        "\n",
        "    A = [1, 2, 3, 4]\n",
        "    K = 4\n",
        "the function should return [1, 2, 3, 4]\n",
        "\n",
        "Assume that:\n",
        "\n",
        "N and K are integers within the range [0..100];\n",
        "each element of array A is an integer within the range [−1,000..1,000].\n",
        "In your solution, focus on correctness. The performance of your solution will not be the focus of the assessment.\n",
        "\n",
        "\n",
        "------------------------------------------\n",
        "Diberikan sebuah array A yang terdiri dari N bilangan bulat. Rotasi array berarti bahwa setiap elemen digeser ke kanan sebanyak satu indeks, dan elemen terakhir dari array dipindahkan ke tempat pertama. Misalnya, rotasi array A = [3, 8, 9, 7, 6] adalah [6, 3, 8, 9, 7] (elemen digeser ke kanan sebanyak satu indeks dan 6 dipindahkan ke tempat pertama).\n",
        "\n",
        "Tujuannya adalah untuk memutar array A sebanyak K kali; yaitu, setiap elemen A akan digeser ke kanan sebanyak K kali.\n",
        "\n",
        "Tulis sebuah fungsi:\n",
        "\n",
        "def solution(A, K)\n",
        "\n",
        "yang, jika diberikan sebuah array A yang terdiri dari N bilangan bulat dan sebuah bilangan bulat K, akan mengembalikan array A yang diputar sebanyak K kali.\n",
        "\n",
        "Misalnya, jika diberikan\n",
        "\n",
        "A = [3, 8, 9, 7, 6]\n",
        "\n",
        "K = 3\n",
        "fungsi tersebut harus mengembalikan [9, 7, 6, 3, 8]. Tiga rotasi dilakukan:\n",
        "\n",
        "[3, 8, 9, 7, 6] -> [6, 3, 8, 9, 7]\n",
        "\n",
        "[6, 3, 8, 9, 7] -> [7, 6, 3, 8, 9]\n",
        "\n",
        "[7, 6, 3, 8, 9] -> [9, 7, 6, 3, 8]\n",
        "\n",
        "Sebagai contoh lain, diberikan\n",
        "\n",
        "A = [0, 0, 0]\n",
        "\n",
        "K = 1\n",
        "fungsi harus mengembalikan [0, 0, 0]\n",
        "\n",
        "Diberikan\n",
        "\n",
        "A = [1, 2, 3, 4]\n",
        "\n",
        "K = 4\n",
        "fungsi harus mengembalikan [1, 2, 3, 4]\n",
        "\n",
        "Asumsikan bahwa:\n",
        "\n",
        "N dan K adalah bilangan bulat dalam rentang [0..100];\n",
        "\n",
        "setiap elemen array A adalah bilangan bulat dalam rentang [−1.000..1.000].\n",
        "\n",
        "Dalam solusi Anda, fokuslah pada kebenaran. Kinerja solusi Anda tidak akan menjadi fokus penilaian."
      ],
      "metadata": {
        "id": "I54PIiqv0PTh"
      }
    },
    {
      "cell_type": "code",
      "source": [
        "def solution(A, K):\n",
        "    # Jika array kosong atau tidak perlu rotasi\n",
        "    if not A or K % len(A) == 0:\n",
        "        return A\n",
        "\n",
        "    # Hitung rotasi efektif\n",
        "    K = K % len(A)\n",
        "\n",
        "    # Lakukan rotasi dengan slicing\n",
        "    return A[-K:] + A[:-K]\n",
        "\n",
        "# Contoh penggunaan\n",
        "print(solution([3, 8, 9, 7, 6], 3))  # Output: [9, 7, 6, 3, 8]\n",
        "print(solution([0, 0, 0], 1))        # Output: [0, 0, 0]\n",
        "print(solution([1, 2, 3, 4], 4))    # Output: [1, 2, 3, 4]\n"
      ],
      "metadata": {
        "colab": {
          "base_uri": "https://localhost:8080/"
        },
        "id": "3GMynhZHzFi8",
        "outputId": "1ef4fd62-4aeb-4d38-9878-eb92ea92aa81"
      },
      "execution_count": null,
      "outputs": [
        {
          "output_type": "stream",
          "name": "stdout",
          "text": [
            "[9, 7, 6, 3, 8]\n",
            "[0, 0, 0]\n",
            "[1, 2, 3, 4]\n"
          ]
        }
      ]
    },
    {
      "cell_type": "code",
      "source": [
        "def solution(A, K):\n",
        "    # Jika array kosong atau tidak perlu rotasi\n",
        "    if not A or K % len(A) == 0:\n",
        "        return A\n",
        "\n",
        "    # Hitung rotasi efektif\n",
        "    K = K % len(A)\n",
        "\n",
        "    # Lakukan rotasi dengan slicing\n",
        "    return A[-K:] + A[:-K]\n",
        "\n",
        "# Contoh penggunaan\n",
        "print(solution([3, 8, 9, 7, 6], 6))\n",
        "print(solution([6, 1, 2], 2))\n",
        "print(solution([1, 4, 5, 3], 4))\n"
      ],
      "metadata": {
        "colab": {
          "base_uri": "https://localhost:8080/"
        },
        "id": "rclGSMri1GA0",
        "outputId": "58695360-4ee9-4f17-accc-e4972cdb6585"
      },
      "execution_count": null,
      "outputs": [
        {
          "output_type": "stream",
          "name": "stdout",
          "text": [
            "[6, 3, 8, 9, 7]\n",
            "[1, 2, 6]\n",
            "[1, 4, 5, 3]\n"
          ]
        }
      ]
    },
    {
      "cell_type": "markdown",
      "source": [
        "Penjelasan Kode:\n",
        "Kasus Khusus:\n",
        "\n",
        "Jika array\n",
        "𝐴\n",
        "A kosong atau\n",
        "𝐾\n",
        "K adalah kelipatan dari panjang\n",
        "𝐴\n",
        "A, maka array tidak berubah.\n",
        "Hal ini diperiksa dengan if not A or K % len(A) == 0.\n",
        "Rotasi Efektif:\n",
        "\n",
        "Karena rotasi penuh (kelipatan panjang array) menghasilkan array yang sama, kita hanya perlu memutar sebanyak\n",
        "𝐾\n",
        "%\n",
        "len\n",
        "(\n",
        "𝐴\n",
        ")\n",
        "K%len(A).\n",
        "Rotasi dengan Slicing:\n",
        "\n",
        "A[-K:]: Mengambil elemen terakhir sebanyak\n",
        "𝐾\n",
        "K.\n",
        "A[:-K]: Mengambil elemen dari awal hingga indeks sebelum\n",
        "𝐾\n",
        "K elemen terakhir.\n",
        "Menggabungkan keduanya menghasilkan array yang sudah diputar.\n",
        "Kompleksitas:\n",
        "Waktu:\n",
        "𝑂\n",
        "(\n",
        "𝑁\n",
        ")\n",
        "O(N), karena slicing dan penggabungan array membutuhkan waktu proporsional terhadap panjang array\n",
        "𝑁\n",
        "N.\n",
        "Ruang:\n",
        "𝑂\n",
        "(\n",
        "𝑁\n",
        ")\n",
        "O(N), karena slicing menghasilkan array baru.\n",
        "Fungsi ini menangani berbagai skenario, termasuk array kosong dan rotasi yang lebih besar dari panjang array."
      ],
      "metadata": {
        "id": "jCPILleE2HpV"
      }
    },
    {
      "cell_type": "markdown",
      "source": [
        "###OddOccurrencesInArray\n",
        "\n",
        "Find value that occurs in odd number of elements."
      ],
      "metadata": {
        "id": "sfyvSjBT1r34"
      }
    },
    {
      "cell_type": "markdown",
      "source": [
        "A non-empty array A consisting of N integers is given. The array contains an odd number of elements, and each element of the array can be paired with another element that has the same value, except for one element that is left unpaired.\n",
        "\n",
        "For example, in array A such that:\n",
        "\n",
        "  A[0] = 9  A[1] = 3  A[2] = 9\n",
        "  A[3] = 3  A[4] = 9  A[5] = 7\n",
        "  A[6] = 9\n",
        "the elements at indexes 0 and 2 have value 9,\n",
        "the elements at indexes 1 and 3 have value 3,\n",
        "the elements at indexes 4 and 6 have value 9,\n",
        "the element at index 5 has value 7 and is unpaired.\n",
        "Write a function:\n",
        "\n",
        "def solution(A)\n",
        "\n",
        "that, given an array A consisting of N integers fulfilling the above conditions, returns the value of the unpaired element.\n",
        "\n",
        "For example, given array A such that:\n",
        "\n",
        "  A[0] = 9  A[1] = 3  A[2] = 9\n",
        "  A[3] = 3  A[4] = 9  A[5] = 7\n",
        "  A[6] = 9\n",
        "the function should return 7, as explained in the example above.\n",
        "\n",
        "Write an efficient algorithm for the following assumptions:\n",
        "\n",
        "N is an odd integer within the range [1..1,000,000];\n",
        "each element of array A is an integer within the range [1..1,000,000,000];\n",
        "all but one of the values in A occur an even number of times.\n",
        "\n",
        "-------------------------------------------\n",
        "Diberikan sebuah array A yang tidak kosong yang terdiri dari N bilangan bulat. Array tersebut berisi sejumlah elemen ganjil, dan setiap elemen array dapat dipasangkan dengan elemen lain yang memiliki nilai yang sama, kecuali untuk satu elemen yang tidak berpasangan.\n",
        "\n",
        "Misalnya, dalam array A seperti:\n",
        "\n",
        "A[0] = 9 A[1] = 3 A[2] = 9\n",
        "\n",
        "A[3] = 3 A[4] = 9 A[5] = 7\n",
        "\n",
        "A[6] = 9\n",
        "\n",
        "elemen pada indeks 0 dan 2 memiliki nilai 9,\n",
        "\n",
        "elemen pada indeks 1 dan 3 memiliki nilai 3,\n",
        "\n",
        "elemen pada indeks 4 dan 6 memiliki nilai 9,\n",
        "\n",
        "elemen pada indeks 5 memiliki nilai 7 dan tidak berpasangan.\n",
        "\n",
        "Tulis sebuah fungsi:\n",
        "\n",
        "def solution(A)\n",
        "\n",
        "yang, jika diberikan sebuah array A yang terdiri dari N bilangan bulat yang memenuhi kondisi di atas, akan mengembalikan nilai elemen yang tidak berpasangan.\n",
        "\n",
        "Misalnya, diberikan array A seperti berikut:\n",
        "\n",
        "A[0] = 9 A[1] = 3 A[2] = 9\n",
        "A[3] = 3 A[4] = 9 A[5] = 7\n",
        "A[6] = 9\n",
        "fungsi tersebut harus mengembalikan 7, seperti yang dijelaskan dalam contoh di atas.\n",
        "\n",
        "Tulis algoritma yang efisien untuk asumsi berikut:\n",
        "\n",
        "N adalah bilangan bulat ganjil dalam rentang [1..1.000.000];\n",
        "setiap elemen array A adalah bilangan bulat dalam rentang [1..1.000.000.000];\n",
        "semua kecuali satu nilai dalam A muncul dalam jumlah genap."
      ],
      "metadata": {
        "id": "bRNJlGzL1zUX"
      }
    },
    {
      "cell_type": "code",
      "source": [
        "def solution(A):\n",
        "    unpaired = 0\n",
        "    for number in A:\n",
        "        unpaired ^= number  # Lakukan operasi XOR pada setiap elemen\n",
        "    return unpaired\n",
        "\n",
        "# Contoh penggunaan\n",
        "print(solution([9, 3, 9, 3, 9, 7, 9]))  # Output: 7\n",
        "print(solution([1, 2, 1]))              # Output: 2\n",
        "print(solution([4]))                    # Output: 4\n"
      ],
      "metadata": {
        "colab": {
          "base_uri": "https://localhost:8080/"
        },
        "id": "tEnc02gE2Lpd",
        "outputId": "82dfd8fd-e23e-4eb0-dbe2-189ac0de9122"
      },
      "execution_count": null,
      "outputs": [
        {
          "output_type": "stream",
          "name": "stdout",
          "text": [
            "7\n",
            "2\n",
            "4\n"
          ]
        }
      ]
    },
    {
      "cell_type": "code",
      "source": [
        "def solution(A):\n",
        "    unpaired = 0\n",
        "    for number in A:\n",
        "        unpaired ^= number  # Lakukan operasi XOR pada setiap elemen\n",
        "    return unpaired\n",
        "\n",
        "# Contoh penggunaan\n",
        "print(solution([9, 3, 9, 3, 9, 7, 9]))\n",
        "print(solution([1, 2, 1]))\n",
        "print(solution([4]))\n"
      ],
      "metadata": {
        "colab": {
          "base_uri": "https://localhost:8080/"
        },
        "id": "9Etqn3AK2SFu",
        "outputId": "0ff9b13f-b29b-4e10-8dea-d859ac50ce2b"
      },
      "execution_count": null,
      "outputs": [
        {
          "output_type": "stream",
          "name": "stdout",
          "text": [
            "7\n",
            "2\n",
            "4\n"
          ]
        }
      ]
    },
    {
      "cell_type": "markdown",
      "source": [
        "Penjelasan Algoritma:\n",
        "1. Properti XOR:\n",
        "* XOR memiliki beberapa sifat penting:\n",
        "** x⊕x=0 (suatu bilangan XOR dengan dirinya sendiri menghasilkan 0).\n",
        "** x⊕0=x (suatu bilangan XOR dengan 0 tetap sama).\n",
        "** XOR bersifat komutatif dan asosiatif (\n",
        "a⊕b=b⊕a).\n",
        "* Dengan sifat ini, semua elemen yang berpasangan akan saling membatalkan satu sama lain menjadi 0, dan hanya elemen yang tidak berpasangan akan tersisa.\n",
        "\n",
        "2. Langkah Algoritma:\n",
        "\n",
        "* Mulai dengan variabel unpaired yang bernilai 0.\n",
        "* Iterasi setiap elemen dalam array A:\n",
        "** Lakukan operasi XOR antara elemen saat ini dan unpaired.\n",
        "* Setelah iterasi selesai, variabel unpaired akan menyimpan elemen yang tidak memiliki pasangan.\n",
        "\n",
        "3. Kompleksitas:\n",
        "\n",
        "* Waktu: O(N), karena kita hanya perlu melakukan satu iterasi melalui array.\n",
        "* Ruang: O(1), karena hanya menggunakan variabel tambahan unpaired.\n",
        "\n",
        "\n",
        "##Contoh Penjelasan:\n",
        "Diberikan A=[9,3,9,3,9,7,9]:\n",
        "1. unpaired=0\n",
        "2. Iterasi elemen A:\n",
        "  * * unpaired⊕9=9\n",
        "  * * unpaired⊕3=9⊕3=10\n",
        "  * * unpaired⊕9=10⊕9=3\n",
        "  * * unpaired⊕3=3⊕3=0\n",
        "  * * unpaired⊕9=0⊕9=9\n",
        "  * * unpaired⊕7=9⊕7=14\n",
        "  * * unpaired⊕9=14⊕9=7\n",
        "3. Akhirnya, unpaired=7, elemen yang tidak berpasangan.\n",
        "\n",
        "Algoritma ini sangat efisien dan ideal untuk skala besar."
      ],
      "metadata": {
        "id": "kjMtDHLC22VJ"
      }
    },
    {
      "cell_type": "markdown",
      "source": [
        "#Time Complexity"
      ],
      "metadata": {
        "id": "J_pO1oL35V-Q"
      }
    },
    {
      "cell_type": "markdown",
      "source": [
        "###FrogJmp\n",
        "Count minimal number of jumps from position X to Y."
      ],
      "metadata": {
        "id": "-VGi3zzw5blj"
      }
    },
    {
      "cell_type": "markdown",
      "source": [
        "A small frog wants to get to the other side of the road. The frog is currently located at position X and wants to get to a position greater than or equal to Y. The small frog always jumps a fixed distance, D.\n",
        "\n",
        "Count the minimal number of jumps that the small frog must perform to reach its target.\n",
        "\n",
        "Write a function:\n",
        "\n",
        "def solution(X, Y, D)\n",
        "\n",
        "that, given three integers X, Y and D, returns the minimal number of jumps from position X to a position equal to or greater than Y.\n",
        "\n",
        "For example, given:\n",
        "\n",
        "  X = 10\n",
        "  Y = 85\n",
        "  D = 30\n",
        "the function should return 3, because the frog will be positioned as follows:\n",
        "\n",
        "after the first jump, at position 10 + 30 = 40\n",
        "after the second jump, at position 10 + 30 + 30 = 70\n",
        "after the third jump, at position 10 + 30 + 30 + 30 = 100\n",
        "Write an efficient algorithm for the following assumptions:\n",
        "\n",
        "X, Y and D are integers within the range [1..1,000,000,000];\n",
        "X ≤ Y.\n",
        "\n",
        "-------------------------------------------\n",
        "Seekor katak kecil ingin menyeberang ke seberang jalan. Katak tersebut saat ini berada di posisi X dan ingin menyeberang ke posisi yang lebih besar atau sama dengan Y. Katak kecil tersebut selalu melompat pada jarak tertentu, D.\n",
        "\n",
        "Hitung jumlah lompatan minimal yang harus dilakukan katak kecil tersebut untuk mencapai targetnya.\n",
        "\n",
        "Tulis sebuah fungsi:\n",
        "\n",
        "def solution(X, Y, D)\n",
        "\n",
        "yang, jika diberikan tiga bilangan bulat X, Y, dan D, mengembalikan jumlah lompatan minimal dari posisi X ke posisi yang sama dengan atau lebih besar dari Y.\n",
        "\n",
        "Misalnya, jika diberikan:\n",
        "\n",
        "X = 10\n",
        "Y = 85\n",
        "D = 30\n",
        "fungsi tersebut harus mengembalikan 3, karena katak akan diposisikan sebagai berikut:\n",
        "\n",
        "setelah lompatan pertama, pada posisi 10 + 30 = 40\n",
        "setelah lompatan kedua, pada posisi 10 + 30 + 30 = 70\n",
        "setelah lompatan ketiga, pada posisi 10 + 30 + 30 + 30 = 100.\n",
        "\n",
        "Tulis sebuah algoritma yang efisien untuk asumsi berikut:\n",
        "\n",
        "X, Y, dan D adalah bilangan bulat dalam rentang [1..1.000.000.000];\n",
        "X ≤ Y."
      ],
      "metadata": {
        "id": "f5zycHiC5lMD"
      }
    },
    {
      "cell_type": "code",
      "source": [
        "def solution(X, Y, D):\n",
        "    # Hitung jarak yang harus ditempuh\n",
        "    distance = Y - X\n",
        "\n",
        "    # Hitung jumlah lompatan minimal\n",
        "    jumps = (distance + D - 1) // D  # Gunakan pembulatan ke atas\n",
        "\n",
        "    return jumps\n",
        "\n",
        "# Contoh penggunaan\n",
        "print(solution(10, 85, 30))  # Output: 3\n",
        "print(solution(1, 1, 1))     # Output: 0\n",
        "print(solution(10, 100, 15)) # Output: 6\n"
      ],
      "metadata": {
        "colab": {
          "base_uri": "https://localhost:8080/"
        },
        "id": "kxuTnJ9L27Lk",
        "outputId": "b6a33afa-d549-4eb3-d3bb-173ebfbebb80"
      },
      "execution_count": null,
      "outputs": [
        {
          "output_type": "stream",
          "name": "stdout",
          "text": [
            "3\n",
            "0\n",
            "6\n"
          ]
        }
      ]
    },
    {
      "cell_type": "markdown",
      "source": [
        "##Penjelasan Kode:\n",
        "1.Hitung Jarak:\n",
        "\n",
        " Selisih antara Y (target) dan X (posisi awal) dihitung sebagai distance = Y - X.\n",
        "\n",
        "2.Hitung Lompatan Minimal:\n",
        "\n",
        "* Setiap lompatan memiliki panjang D.\n",
        "* Untuk menghitung jumlah lompatan minimal, gunakan rumus:\n",
        " jumps = (distance/D)\n",
        "* Alih-alih menggunakan fungsi pembulatan ke atas, kita gunakan operasi matematis: jumps = (distance + D-1)/D\n",
        "* Penambahan D−1 memastikan hasil dibulatkan ke atas tanpa perlu menggunakan fungsi pembulatan.\n",
        "\n",
        "3.Kembalikan Hasil:\n",
        "* Hasil adalah jumlah lompatan minimal yang diperlukan.\n",
        "\n",
        "4.Kompleksitas:\n",
        "* Waktu:  O(1), karena hanya melakukan operasi aritmatika.\n",
        "* Ruang: O(1), karena tidak menggunakan struktur data tambahan.\n",
        "\n",
        "# Contoh Kasus:\n",
        "1.X=10,Y=85,D=30:\n",
        "* distance =85−10=75\n",
        "* jumps= (75+30−1)//30=3\n",
        "\n",
        "2.X=1,Y=1,D=1:\n",
        "*distance=1−1=0\n",
        "* jumps=0\n",
        "\n",
        "3.X=10,Y=100,D=15:\n",
        "* distance=100−10=90\n",
        "* jumps=(90+15−1)//15=6"
      ],
      "metadata": {
        "id": "zAT3vrhx6FI1"
      }
    },
    {
      "cell_type": "markdown",
      "source": [
        "##PermMissingElem\n",
        "\n",
        "Find the missing element in a given permutation."
      ],
      "metadata": {
        "id": "Xfj80PR878KS"
      }
    },
    {
      "cell_type": "markdown",
      "source": [
        "An array A consisting of N different integers is given. The array contains integers in the range [1..(N + 1)], which means that exactly one element is missing.\n",
        "\n",
        "Your goal is to find that missing element.\n",
        "\n",
        "Write a function:\n",
        "\n",
        "def solution(A)\n",
        "\n",
        "that, given an array A, returns the value of the missing element.\n",
        "\n",
        "For example, given array A such that:\n",
        "\n",
        "  A[0] = 2\n",
        "  A[1] = 3\n",
        "  A[2] = 1\n",
        "  A[3] = 5\n",
        "the function should return 4, as it is the missing element.\n",
        "\n",
        "Write an efficient algorithm for the following assumptions:\n",
        "\n",
        "N is an integer within the range [0..100,000];\n",
        "the elements of A are all distinct;\n",
        "each element of array A is an integer within the range [1..(N + 1)].\n",
        "\n",
        "---------------------------------------------\n",
        "Diberikan sebuah array A yang terdiri dari N integer yang berbeda. Array tersebut berisi integer dalam rentang [1..(N + 1)], yang berarti bahwa tepat satu elemen hilang.\n",
        "\n",
        "Tujuan Anda adalah menemukan elemen yang hilang tersebut.\n",
        "\n",
        "Tulis sebuah fungsi:\n",
        "\n",
        "def solution(A)\n",
        "\n",
        "yang, jika diberikan sebuah array A, akan mengembalikan nilai elemen yang hilang.\n",
        "\n",
        "Misalnya, jika diberikan array A seperti ini:\n",
        "\n",
        "A[0] = 2\n",
        "\n",
        "A[1] = 3\n",
        "\n",
        "A[2] = 1\n",
        "\n",
        "A[3] = 5\n",
        "fungsi tersebut harus mengembalikan 4, karena itu adalah elemen yang hilang.\n",
        "\n",
        "Tulis sebuah algoritma yang efisien untuk asumsi berikut:\n",
        "\n",
        "N adalah integer dalam rentang [0..100,000];\n",
        "\n",
        "semua elemen A berbeda;\n",
        "\n",
        "setiap elemen array A adalah integer dalam rentang [1..(N + 1)]."
      ],
      "metadata": {
        "id": "MqfRk4uf8Ifq"
      }
    },
    {
      "cell_type": "markdown",
      "source": [
        "Solusi dengan Rumus Gauss:\n",
        "Kita dapat menggunakan rumus jumlah deret aritmatika untuk menghitung jumlah semua elemen dari 1 hingga N+1. Setelah itu, selisih antara jumlah yang diharapkan dan jumlah elemen di  A adalah elemen yang hilang."
      ],
      "metadata": {
        "id": "rz_YNUk28Zyz"
      }
    },
    {
      "cell_type": "code",
      "source": [
        "def solution(A):\n",
        "    N = len(A)\n",
        "    # Hitung jumlah total dari 1 hingga N+1\n",
        "    expected_sum = (N + 1) * (N + 2) // 2\n",
        "\n",
        "    # Hitung jumlah elemen di array\n",
        "    actual_sum = sum(A)\n",
        "\n",
        "    # Elemen yang hilang adalah selisih antara expected_sum dan actual_sum\n",
        "    return expected_sum - actual_sum\n",
        "\n",
        "# Contoh penggunaan\n",
        "print(solution([2, 3, 1, 5]))  # Output: 4\n",
        "print(solution([]))            # Output: 1\n",
        "print(solution([1, 2, 3, 5]))  # Output: 4\n"
      ],
      "metadata": {
        "colab": {
          "base_uri": "https://localhost:8080/"
        },
        "id": "kaynMRbP7HGV",
        "outputId": "fe833781-7dad-4361-d613-fc69a7a7ba2e"
      },
      "execution_count": null,
      "outputs": [
        {
          "output_type": "stream",
          "name": "stdout",
          "text": [
            "4\n",
            "1\n",
            "4\n"
          ]
        }
      ]
    },
    {
      "cell_type": "markdown",
      "source": [
        "##Penjelasan Kode:\n",
        "1.Rumus Jumlah Deret:\n",
        "\n",
        "* Jumlah deret aritmatika dari 1 hingga\n",
        "N+1 adalah: \\text{expected_sum} = \\frac{(N+1)(N+2)}{2}\n",
        "\n",
        "2.Hitung Selisih:\n",
        "* Hitung jumlah elemen dalam array\n",
        "A menggunakan fungsi sum.\n",
        "* Elemen yang hilang adalah selisih antara expected_sum dan actual_sum.\n",
        "\n",
        "3.Kasus Khusus:\n",
        "* Jika array kosong (N=0), elemen yang hilang adalah 1.\n",
        "\n",
        "##Kompleksitas:\n",
        "* Waktu: O(N), karena kita menghitung jumlah elemen di A dalam satu iterasi.\n",
        "* Ruang: O(1), karena hanya menggunakan variabel tambahan.\n",
        "\n",
        "#Contoh Kasus:\n",
        "1.Input:A=[2,3,1,5]\n",
        "* N=4\n",
        "* \\text{expected_sum} = \\frac{5 \\cdot 6}{2} = 15\n",
        "* \\text{actual_sum} = 2 + 3 + 1 + 5 = 11\n",
        "* missing=15−11=4\n",
        "\n",
        "2.Input:A=[]\n",
        "* N=0\n",
        "* \\text{expected_sum} = \\frac{1 \\cdot 2}{2} = 1\n",
        "* \\text{actual_sum} = 0\n",
        "* missing=1−0=1\n",
        "\n",
        "3.Input:A=[1,2,3,5]\n",
        "* N=4\n",
        "* \\text{expected_sum} = 15\n",
        "* \\text{actual_sum} = 11\n",
        "* missing=15−11=4\n",
        "\n",
        "Dengan algoritma ini, elemen yang hilang dapat ditemukan secara efisien, bahkan untuk array besar."
      ],
      "metadata": {
        "id": "HxAP3Ich8o5p"
      }
    },
    {
      "cell_type": "markdown",
      "source": [
        "##TapeEquilibrium\n",
        "\n",
        "Minimize the value |(A[0] + ... + A[P-1]) - (A[P] + ... + A[N-1])|."
      ],
      "metadata": {
        "id": "XPNJyqK89rE3"
      }
    },
    {
      "cell_type": "markdown",
      "source": [
        "A non-empty array A consisting of N integers is given. Array A represents numbers on a tape.\n",
        "\n",
        "Any integer P, such that 0 < P < N, splits this tape into two non-empty parts: A[0], A[1], ..., A[P − 1] and A[P], A[P + 1], ..., A[N − 1].\n",
        "\n",
        "The difference between the two parts is the value of: |(A[0] + A[1] + ... + A[P − 1]) − (A[P] + A[P + 1] + ... + A[N − 1])|\n",
        "\n",
        "In other words, it is the absolute difference between the sum of the first part and the sum of the second part.\n",
        "\n",
        "For example, consider array A such that:\n",
        "\n",
        "  A[0] = 3\n",
        "  A[1] = 1\n",
        "  A[2] = 2\n",
        "  A[3] = 4\n",
        "  A[4] = 3\n",
        "We can split this tape in four places:\n",
        "\n",
        "P = 1, difference = |3 − 10| = 7\n",
        "P = 2, difference = |4 − 9| = 5\n",
        "P = 3, difference = |6 − 7| = 1\n",
        "P = 4, difference = |10 − 3| = 7\n",
        "Write a function:\n",
        "\n",
        "def solution(A)\n",
        "\n",
        "that, given a non-empty array A of N integers, returns the minimal difference that can be achieved.\n",
        "\n",
        "For example, given:\n",
        "\n",
        "  A[0] = 3\n",
        "  A[1] = 1\n",
        "  A[2] = 2\n",
        "  A[3] = 4\n",
        "  A[4] = 3\n",
        "the function should return 1, as explained above.\n",
        "\n",
        "Write an efficient algorithm for the following assumptions:\n",
        "\n",
        "N is an integer within the range [2..100,000];\n",
        "each element of array A is an integer within the range [−1,000..1,000].\n",
        "\n",
        "--------------------------------------------\n",
        "Diberikan sebuah array A yang tidak kosong yang terdiri dari N bilangan bulat. Array A merepresentasikan angka-angka pada pita.\n",
        "\n",
        "Setiap bilangan bulat P, sehingga 0 < P < N, membagi pita ini menjadi dua bagian yang tidak kosong: A[0], A[1], ..., A[P − 1] dan A[P], A[P + 1], ..., A[N − 1].\n",
        "\n",
        "Selisih antara kedua bagian tersebut adalah nilai dari: |(A[0] + A[1] + ... + A[P − 1]) − (A[P] + A[P + 1] + ... + A[N − 1])|\n",
        "\n",
        "Dengan kata lain, itu adalah selisih absolut antara jumlah bagian pertama dan jumlah bagian kedua.\n",
        "\n",
        "Misalnya, perhatikan array A seperti ini:\n",
        "\n",
        "A[0] = 3\n",
        "A[1] = 1\n",
        "A[2] = 2\n",
        "A[3] = 4\n",
        "A[4] = 3\n",
        "Kita dapat membagi pita ini menjadi empat tempat:\n",
        "\n",
        "P = 1, selisih = |3 − 10| = 7\n",
        "P = 2, selisih = |4 − 9| = 5\n",
        "P = 3, selisih = |6 − 7| = 1\n",
        "P = 4, selisih = |10 − 3| = 7\n",
        "Tuliskan fungsi:\n",
        "\n",
        "def solution(A)\n",
        "\n",
        "yang, jika diberikan array A yang tidak kosong dengan bilangan bulat N, akan mengembalikan selisih minimal yang dapat dicapai.\n",
        "\n",
        "Misalnya, diberikan:\n",
        "\n",
        "A[0] = 3\n",
        "A[1] = 1\n",
        "A[2] = 2\n",
        "A[3] = 4\n",
        "A[4] = 3\n",
        "fungsi tersebut harus mengembalikan 1, seperti yang dijelaskan di atas.\n",
        "\n",
        "Tulis algoritma yang efisien untuk asumsi berikut:\n",
        "\n",
        "N adalah bilangan bulat dalam rentang [2..100.000];\n",
        "setiap elemen array A adalah bilangan bulat dalam rentang [−1.000..1.000]."
      ],
      "metadata": {
        "id": "VeCrIYtw90Wf"
      }
    },
    {
      "cell_type": "code",
      "source": [
        "#efisien untuk menemukan selisih minimal antara dua bagian pita.\n",
        "\n",
        "def solution(A):\n",
        "    total_sum = sum(A)  # Hitung total jumlah elemen di array\n",
        "    left_sum = 0        # Jumlah elemen di bagian kiri\n",
        "    min_difference = float('inf')  # Inisialisasi selisih minimum dengan nilai tak hingga\n",
        "\n",
        "    # Iterasi melalui array untuk mencari titik P\n",
        "    for i in range(len(A) - 1):\n",
        "        left_sum += A[i]                     # Tambahkan elemen saat ini ke bagian kiri\n",
        "        right_sum = total_sum - left_sum     # Hitung jumlah elemen di bagian kanan\n",
        "        difference = abs(left_sum - right_sum)  # Hitung selisih absolut\n",
        "        min_difference = min(min_difference, difference)  # Perbarui selisih minimum\n",
        "\n",
        "    return min_difference\n",
        "\n",
        "# Contoh penggunaan\n",
        "print(solution([3, 1, 2, 4, 3]))  # Output: 1\n",
        "print(solution([5, 6, 2, 4, 1]))  # Output: 4\n",
        "print(solution([-10, 10]))        # Output: 20\n"
      ],
      "metadata": {
        "colab": {
          "base_uri": "https://localhost:8080/"
        },
        "id": "XpPrUeZ-975P",
        "outputId": "aac60a14-42be-4207-b7dc-aa375b7b9a5b"
      },
      "execution_count": null,
      "outputs": [
        {
          "output_type": "stream",
          "name": "stdout",
          "text": [
            "1\n",
            "4\n",
            "20\n"
          ]
        }
      ]
    },
    {
      "cell_type": "code",
      "source": [
        "def solution(A):\n",
        "    N = len(A)\n",
        "    total_sum = sum(A)  # Hitung total jumlah elemen di array\n",
        "    left_sum = 0        # Jumlah elemen di bagian kiri\n",
        "    min_difference = float('inf')  # Inisialisasi selisih minimal dengan nilai tak hingga\n",
        "\n",
        "    # Iterasi melalui array untuk mencari titik P\n",
        "    for i in range(N - 1):\n",
        "        left_sum += A[i]                     # Tambahkan elemen saat ini ke bagian kiri\n",
        "        right_sum = total_sum - left_sum     # Hitung jumlah elemen di bagian kanan\n",
        "        difference = abs(left_sum - right_sum)  # Hitung selisih absolut\n",
        "        min_difference = min(min_difference, difference)  # Perbarui selisih minimum\n",
        "\n",
        "    return min_difference\n",
        "\n",
        "# Contoh penggunaan\n",
        "print(solution([2,100000]))\n",
        "print(solution([-1000,1000]))\n",
        "print(solution([-100, 10]))\n"
      ],
      "metadata": {
        "colab": {
          "base_uri": "https://localhost:8080/"
        },
        "id": "iaAM9Tgv-O9H",
        "outputId": "f65d313a-2813-4e11-dea0-ef2983ee2cc9"
      },
      "execution_count": null,
      "outputs": [
        {
          "output_type": "stream",
          "name": "stdout",
          "text": [
            "99998\n",
            "2000\n",
            "110\n"
          ]
        }
      ]
    },
    {
      "cell_type": "markdown",
      "source": [
        "#Counting Elements"
      ],
      "metadata": {
        "id": "QcIY4W2OAIkL"
      }
    },
    {
      "cell_type": "markdown",
      "source": [
        "##FrogRiverOne\n",
        "\n",
        "Find the earliest time when a frog can jump to the other side of a river."
      ],
      "metadata": {
        "id": "7jFzE0MaAPpR"
      }
    },
    {
      "cell_type": "markdown",
      "source": [
        "A small frog wants to get to the other side of a river. The frog is initially located on one bank of the river (position 0) and wants to get to the opposite bank (position X+1). Leaves fall from a tree onto the surface of the river.\n",
        "\n",
        "You are given an array A consisting of N integers representing the falling leaves. A[K] represents the position where one leaf falls at time K, measured in seconds.\n",
        "\n",
        "The goal is to find the earliest time when the frog can jump to the other side of the river. The frog can cross only when leaves appear at every position across the river from 1 to X (that is, we want to find the earliest moment when all the positions from 1 to X are covered by leaves). You may assume that the speed of the current in the river is negligibly small, i.e. the leaves do not change their positions once they fall in the river.\n",
        "\n",
        "For example, you are given integer X = 5 and array A such that:\n",
        "\n",
        "  A[0] = 1\n",
        "  A[1] = 3\n",
        "  A[2] = 1\n",
        "  A[3] = 4\n",
        "  A[4] = 2\n",
        "  A[5] = 3\n",
        "  A[6] = 5\n",
        "  A[7] = 4\n",
        "In second 6, a leaf falls into position 5. This is the earliest time when leaves appear in every position across the river.\n",
        "\n",
        "Write a function:\n",
        "\n",
        "def solution(X, A)\n",
        "\n",
        "that, given a non-empty array A consisting of N integers and integer X, returns the earliest time when the frog can jump to the other side of the river.\n",
        "\n",
        "If the frog is never able to jump to the other side of the river, the function should return −1.\n",
        "\n",
        "For example, given X = 5 and array A such that:\n",
        "\n",
        "  A[0] = 1\n",
        "  A[1] = 3\n",
        "  A[2] = 1\n",
        "  A[3] = 4\n",
        "  A[4] = 2\n",
        "  A[5] = 3\n",
        "  A[6] = 5\n",
        "  A[7] = 4\n",
        "the function should return 6, as explained above.\n",
        "\n",
        "Write an efficient algorithm for the following assumptions:\n",
        "\n",
        "N and X are integers within the range [1..100,000];\n",
        "each element of array A is an integer within the range [1..X].\n",
        "\n",
        "---------------------------------------------\n",
        "Seekor katak kecil ingin menyeberangi sungai. Katak tersebut awalnya berada di salah satu tepi sungai (posisi 0) dan ingin menyeberang ke tepi seberang (posisi X+1). Daun-daun berguguran dari pohon ke permukaan sungai.\n",
        "\n",
        "Anda diberi larik A yang terdiri dari N bilangan bulat yang mewakili daun-daun yang berguguran. A[K] mewakili posisi jatuhnya satu daun pada waktu K, diukur dalam detik.\n",
        "\n",
        "Tujuannya adalah untuk menemukan waktu paling awal saat katak dapat melompat ke seberang sungai. Katak dapat menyeberang hanya saat daun-daun muncul di setiap posisi di seberang sungai dari 1 hingga X (artinya, kita ingin menemukan saat paling awal saat semua posisi dari 1 hingga X tertutup oleh daun). Anda dapat berasumsi bahwa kecepatan arus di sungai sangat kecil, yaitu daun-daun tidak mengubah posisinya saat jatuh ke sungai.\n",
        "\n",
        "Misalnya, Anda diberi bilangan bulat X = 5 dan array A seperti berikut:\n",
        "\n",
        "A[0] = 1\n",
        "A[1] = 3\n",
        "A[2] = 1\n",
        "A[3] = 4\n",
        "A[4] = 2\n",
        "A[5] = 3\n",
        "A[6] = 5\n",
        "A[7] = 4\n",
        "Pada detik ke-6, sehelai daun jatuh ke posisi 5. Ini adalah waktu paling awal ketika daun muncul di setiap posisi di seberang sungai.\n",
        "\n",
        "Tuliskan sebuah fungsi:\n",
        "\n",
        "def solution(X, A)\n",
        "\n",
        "yang, jika diberikan array A yang tidak kosong yang terdiri dari N bilangan bulat dan bilangan bulat X, akan mengembalikan waktu paling awal ketika katak dapat melompat ke seberang sungai.\n",
        "\n",
        "Jika katak tidak pernah dapat melompat ke seberang sungai, fungsi tersebut harus mengembalikan −1.\n",
        "\n",
        "Misalnya, jika diberikan X = 5 dan array A seperti berikut:\n",
        "\n",
        "A[0] = 1\n",
        "A[1] = 3\n",
        "A[2] = 1\n",
        "A[3] = 4\n",
        "A[4] = 2\n",
        "A[5] = 3\n",
        "A[6] = 5\n",
        "A[7] = 4\n",
        "fungsi tersebut harus mengembalikan 6, seperti yang dijelaskan di atas.\n",
        "\n",
        "\n",
        "Tulis algoritma yang efisien untuk asumsi berikut:\n",
        "\n",
        "N dan X adalah bilangan bulat dalam rentang [1..100.000];\n",
        "setiap elemen array A adalah bilangan bulat dalam rentang [1..X]."
      ],
      "metadata": {
        "id": "kOQB4YqNAVn0"
      }
    },
    {
      "cell_type": "markdown",
      "source": [
        "Untuk memecahkan masalah ini, kita perlu mencari waktu paling awal di mana semua posisi dari 1 hingga X tertutup oleh daun yang jatuh. Kami bisa menggunakan hash set untuk melacak daun-daun yang telah mencapai masing-masing posisi di seberang sungai.\n",
        "\n",
        "Algoritma:\n",
        "\n",
        "1. Inisialisasi: Buat set kosong untuk menyimpan posisi dari daun yang telah mencapai sungai.\n",
        "\n",
        "2. Iterasi melalui array A: Proses setiap elemen A[K] untuk setiap K.\n",
        "\n",
        "3. Tambahkan ke set: Jika A[K] berada dalam rentang dari 1 hingga X, tambahkan ke set leaves_position.\n",
        "\n",
        "4. Cek Lengkap: Jika ukuran set sudah sama dengan X, maka semua posisi dari 1 hingga X telah tertutup oleh daun.\n",
        "\n",
        "5. Kembalikan Waktu: Kembalikan\n",
        "K, yang menunjukkan detik pertama saat semua posisi tertutup. Jika tidak pernah terjadi, kembalikan -1."
      ],
      "metadata": {
        "id": "yq29CFvhAqY1"
      }
    },
    {
      "cell_type": "code",
      "source": [
        "def solution(X,A):\n",
        "    leaves_position = set()  # Inisialisasi set untuk posisi daun\n",
        "    total_positions = set(range(1, X+1))  # Semua posisi dari 1 hingga X\n",
        "\n",
        "    for time in range(len(A)):\n",
        "        position = A[time]\n",
        "        leaves_position.add(position)\n",
        "\n",
        "        if leaves_position == total_positions:\n",
        "            return time\n",
        "\n",
        "    return -1\n",
        "\n",
        "# Contoh penggunaan\n",
        "print(solution(5, [1, 3, 1, 4, 2, 3, 5, 4]))  # Output: 6\n",
        "print(solution(3, [1, 2, 3, 1, 3, 3, 3]))  # Output: 3\n",
        "print(solution(2, [1, 1, 1, 2, 2]))        # Output: 4\n",
        "print(solution(1, [1, 2, 3, 4, 5]))        # Output: 0\n",
        "print(solution(1, [1,2,4,6,300,500,100000]))\n",
        "print(solution(1, [1, 2,3, 4, 5, 7, 9, 9,9]))"
      ],
      "metadata": {
        "colab": {
          "base_uri": "https://localhost:8080/"
        },
        "id": "LkT6WHgGAfeP",
        "outputId": "1aed884d-13ba-403f-8e0c-f0e9d90e644f"
      },
      "execution_count": null,
      "outputs": [
        {
          "output_type": "stream",
          "name": "stdout",
          "text": [
            "6\n",
            "2\n",
            "3\n",
            "0\n",
            "0\n",
            "0\n"
          ]
        }
      ]
    },
    {
      "cell_type": "markdown",
      "source": [
        "##PermCheck\n",
        "Check whether array A is a permutation."
      ],
      "metadata": {
        "id": "PvRV89lcDWJJ"
      }
    },
    {
      "cell_type": "markdown",
      "source": [
        "A non-empty array A consisting of N integers is given.\n",
        "\n",
        "A permutation is a sequence containing each element from 1 to N once, and only once.\n",
        "\n",
        "For example, array A such that:\n",
        "\n",
        "    A[0] = 4\n",
        "    A[1] = 1\n",
        "    A[2] = 3\n",
        "    A[3] = 2\n",
        "is a permutation, but array A such that:\n",
        "\n",
        "    A[0] = 4\n",
        "    A[1] = 1\n",
        "    A[2] = 3\n",
        "is not a permutation, because value 2 is missing.\n",
        "\n",
        "The goal is to check whether array A is a permutation.\n",
        "\n",
        "Write a function:\n",
        "\n",
        "def solution(A)\n",
        "\n",
        "that, given an array A, returns 1 if array A is a permutation and 0 if it is not.\n",
        "\n",
        "For example, given array A such that:\n",
        "\n",
        "    A[0] = 4\n",
        "    A[1] = 1\n",
        "    A[2] = 3\n",
        "    A[3] = 2\n",
        "the function should return 1.\n",
        "\n",
        "Given array A such that:\n",
        "\n",
        "    A[0] = 4\n",
        "    A[1] = 1\n",
        "    A[2] = 3\n",
        "the function should return 0.\n",
        "\n",
        "Write an efficient algorithm for the following assumptions:\n",
        "\n",
        "N is an integer within the range [1..100,000];\n",
        "each element of array A is an integer within the range [1..1,000,000,000].\n",
        "\n",
        "-------------------------------------------\n",
        "Diberikan array A yang tidak kosong yang terdiri dari N bilangan bulat.\n",
        "\n",
        "Permutasi adalah deret yang memuat setiap elemen dari 1 hingga N sekali, dan hanya sekali.\n",
        "\n",
        "Misalnya, array A yang:\n",
        "\n",
        "A[0] = 4\n",
        "A[1] = 1\n",
        "A[2] = 3\n",
        "A[3] = 2\n",
        "merupakan permutasi, tetapi array A yang:\n",
        "\n",
        "A[0] = 4\n",
        "A[1] = 1\n",
        "A[2] = 3\n",
        "bukan permutasi, karena nilai 2 tidak ada.\n",
        "\n",
        "Tujuannya adalah untuk memeriksa apakah array A merupakan permutasi.\n",
        "\n",
        "Tuliskan fungsi:\n",
        "\n",
        "def solution(A)\n",
        "\n",
        "yang, jika diberikan array A, akan mengembalikan 1 jika array A merupakan permutasi dan 0 jika bukan.\n",
        "\n",
        "Misalnya, diberikan array A sehingga:\n",
        "\n",
        "A[0] = 4\n",
        "A[1] = 1\n",
        "A[2] = 3\n",
        "A[3] = 2\n",
        "fungsi tersebut harus mengembalikan 1.\n",
        "\n",
        "Diberikan array A sehingga:\n",
        "\n",
        "A[0] = 4\n",
        "A[1] = 1\n",
        "A[2] = 3\n",
        "fungsi tersebut harus mengembalikan 0.\n",
        "\n",
        "Tulis algoritma yang efisien untuk asumsi berikut:\n",
        "\n",
        "N adalah bilangan bulat dalam rentang [1..100.000];\n",
        "setiap elemen array A adalah bilangan bulat dalam rentang [1..1.000.000.000]."
      ],
      "metadata": {
        "id": "e46FjQHpDcru"
      }
    },
    {
      "cell_type": "code",
      "source": [
        "#olusi untuk memeriksa apakah array A merupakan permutasi atau bukan:\n",
        "def solution(A):\n",
        "    n = len(A)\n",
        "    unique_elements = set(A)  # Menggunakan set untuk elemen unik\n",
        "\n",
        "    # Cek apakah elemen maksimum sama dengan panjang array dan tidak ada elemen yang duplikat\n",
        "    if len(unique_elements) == n and max(A) == n:\n",
        "        return 1\n",
        "    return 0\n",
        "\n",
        "# Contoh penggunaan\n",
        "print(solution([4, 1, 3, 2]))  # Output: 1\n",
        "print(solution([4, 1, 3]))     # Output: 0\n",
        "print(solution([1]))           # Output: 1\n",
        "print(solution([2]))           # Output: 0\n"
      ],
      "metadata": {
        "colab": {
          "base_uri": "https://localhost:8080/"
        },
        "id": "DagbSWM8Bl6A",
        "outputId": "8c26ebce-5833-49bf-da2a-bed55f20e0c8"
      },
      "execution_count": null,
      "outputs": [
        {
          "output_type": "stream",
          "name": "stdout",
          "text": [
            "1\n",
            "0\n",
            "1\n",
            "0\n"
          ]
        }
      ]
    },
    {
      "cell_type": "markdown",
      "source": [
        "##MaxCounters\n",
        "\n",
        "Calculate the values of counters after applying all alternating operations: increase counter by 1; set value of all counters to current maximum."
      ],
      "metadata": {
        "id": "Pt3iqKAsD8gt"
      }
    },
    {
      "cell_type": "markdown",
      "source": [
        "You are given N counters, initially set to 0, and you have two possible operations on them:\n",
        "\n",
        "increase(X) − counter X is increased by 1,\n",
        "max counter − all counters are set to the maximum value of any counter.\n",
        "A non-empty array A of M integers is given. This array represents consecutive operations:\n",
        "\n",
        "if A[K] = X, such that 1 ≤ X ≤ N, then operation K is increase(X),\n",
        "if A[K] = N + 1 then operation K is max counter.\n",
        "For example, given integer N = 5 and array A such that:\n",
        "\n",
        "    A[0] = 3\n",
        "    A[1] = 4\n",
        "    A[2] = 4\n",
        "    A[3] = 6\n",
        "    A[4] = 1\n",
        "    A[5] = 4\n",
        "    A[6] = 4\n",
        "the values of the counters after each consecutive operation will be:\n",
        "\n",
        "    (0, 0, 1, 0, 0)\n",
        "    (0, 0, 1, 1, 0)\n",
        "    (0, 0, 1, 2, 0)\n",
        "    (2, 2, 2, 2, 2)\n",
        "    (3, 2, 2, 2, 2)\n",
        "    (3, 2, 2, 3, 2)\n",
        "    (3, 2, 2, 4, 2)\n",
        "The goal is to calculate the value of every counter after all operations.\n",
        "\n",
        "Write a function:\n",
        "\n",
        "def solution(N, A)\n",
        "\n",
        "that, given an integer N and a non-empty array A consisting of M integers, returns a sequence of integers representing the values of the counters.\n",
        "\n",
        "Result array should be returned as an array of integers.\n",
        "\n",
        "For example, given:\n",
        "\n",
        "    A[0] = 3\n",
        "    A[1] = 4\n",
        "    A[2] = 4\n",
        "    A[3] = 6\n",
        "    A[4] = 1\n",
        "    A[5] = 4\n",
        "    A[6] = 4\n",
        "the function should return [3, 2, 2, 4, 2], as explained above.\n",
        "\n",
        "Write an efficient algorithm for the following assumptions:\n",
        "\n",
        "N and M are integers within the range [1..100,000];\n",
        "each element of array A is an integer within the range [1..N + 1].\n",
        "\n",
        "-------------------------------------------\n",
        "Anda diberi N penghitung, awalnya ditetapkan ke 0, dan Anda memiliki dua kemungkinan operasi pada penghitung tersebut:\n",
        "\n",
        "increase(X) − penghitung X dinaikkan sebesar 1,\n",
        "max counter − semua penghitung ditetapkan ke nilai maksimum penghitung mana pun.\n",
        "Sebuah array A yang tidak kosong dengan M bilangan bulat diberikan. Array ini mewakili operasi berurutan:\n",
        "\n",
        "jika A[K] = X, sehingga 1 ≤ X ≤ N, maka operasi K adalah increase(X),\n",
        "jika A[K] = N + 1 maka operasi K adalah max counter.\n",
        "Misalnya, diberikan bilangan bulat N = 5 dan array A seperti berikut:\n",
        "\n",
        "A[0] = 3\n",
        "A[1] = 4\n",
        "A[2] = 4\n",
        "A[3] = 6\n",
        "A[4] = 1\n",
        "A[5] = 4\n",
        "A[6] = 4\n",
        "nilai penghitung setelah setiap operasi berurutan adalah:\n",
        "\n",
        "(0, 0, 1, 0, 0)\n",
        "(0, 0, 1, 1, 0)\n",
        "(0, 0, 1, 2, 0)\n",
        "(2, 2, 2, 2, 2)\n",
        "(3, 2, 2, 2, 2)\n",
        "(3, 2, 2, 3, 2)\n",
        "(3, 2, 2, 4, 2)\n",
        "Tujuannya adalah untuk menghitung nilai setiap penghitung setelah semua operasi.\n",
        "\n",
        "Tulis sebuah fungsi:\n",
        "\n",
        "def solution(N, A)\n",
        "\n",
        "yang, jika diberikan sebuah integer N dan array A yang tidak kosong yang terdiri dari M integer, akan mengembalikan serangkaian integer yang mewakili nilai-nilai penghitung.\n",
        "\n",
        "Array hasil harus dikembalikan sebagai array integer.\n",
        "\n",
        "Misalnya, jika diberikan:\n",
        "\n",
        "A[0] = 3\n",
        "A[1] = 4\n",
        "A[2] = 4\n",
        "A[3] = 6\n",
        "A[4] = 1\n",
        "A[5] = 4\n",
        "A[6] = 4\n",
        "fungsi tersebut harus mengembalikan [3, 2, 2, 4, 2], seperti yang dijelaskan di atas.\n",
        "\n",
        "Tulis sebuah algoritma yang efisien untuk asumsi-asumsi berikut:\n",
        "\n",
        "N dan M adalah integer dalam rentang [1..100.000];\n",
        "setiap elemen array A adalah integer dalam rentang [1..N + 1]."
      ],
      "metadata": {
        "id": "zGnVnghXEE_1"
      }
    },
    {
      "cell_type": "code",
      "source": [
        "#solusi untuk menghitung nilai penghitung setelah semua operasi dilakukan secara efisien\n",
        "def solution(N, A):\n",
        "    counters = [0] * N\n",
        "    current_max = 0  # Nilai maksimum penghitung saat ini\n",
        "    last_update = 0  # Nilai maksimum terakhir yang disinkronkan\n",
        "\n",
        "    for op in A:\n",
        "        if 1 <= op <= N:\n",
        "            # Pastikan penghitung disinkronkan dengan last_update sebelum menaikkan\n",
        "            if counters[op - 1] < last_update:\n",
        "                counters[op - 1] = last_update\n",
        "            counters[op - 1] += 1\n",
        "            # Perbarui current_max jika diperlukan\n",
        "            if counters[op - 1] > current_max:\n",
        "                current_max = counters[op - 1]\n",
        "        elif op == N + 1:\n",
        "            # Perbarui last_update untuk sinkronisasi di masa depan\n",
        "            last_update = current_max\n",
        "\n",
        "    # Sinkronisasi akhir untuk penghitung yang belum diperbarui\n",
        "    for i in range(N):\n",
        "        if counters[i] < last_update:\n",
        "            counters[i] = last_update\n",
        "\n",
        "    return counters\n",
        "\n",
        "# Contoh penggunaan\n",
        "N = 5\n",
        "A = [3, 4, 4, 6, 1, 4, 4]\n",
        "print(solution(N, A))  # Output: [3, 2, 2, 4, 2]\n"
      ],
      "metadata": {
        "colab": {
          "base_uri": "https://localhost:8080/"
        },
        "id": "GoJWoSziEb0Y",
        "outputId": "7105eaaf-11d0-43ce-c46f-c7fd38d465bb"
      },
      "execution_count": null,
      "outputs": [
        {
          "output_type": "stream",
          "name": "stdout",
          "text": [
            "[3, 2, 2, 4, 2]\n"
          ]
        }
      ]
    },
    {
      "cell_type": "markdown",
      "source": [
        "##MissingInteger\n",
        "\n",
        "Find the smallest positive integer that does not occur in a given sequence."
      ],
      "metadata": {
        "id": "9_XS_NwoFrrM"
      }
    },
    {
      "cell_type": "markdown",
      "source": [
        "This is a demo task.\n",
        "\n",
        "Write a function:\n",
        "\n",
        "def solution(A)\n",
        "\n",
        "that, given an array A of N integers, returns the smallest positive integer (greater than 0) that does not occur in A.\n",
        "\n",
        "For example, given A = [1, 3, 6, 4, 1, 2], the function should return 5.\n",
        "\n",
        "Given A = [1, 2, 3], the function should return 4.\n",
        "\n",
        "Given A = [−1, −3], the function should return 1.\n",
        "\n",
        "Write an efficient algorithm for the following assumptions:\n",
        "\n",
        "N is an integer within the range [1..100,000];\n",
        "each element of array A is an integer within the range [−1,000,000..1,000,000].\n",
        "\n",
        "------------------------------------------\n",
        "Ini adalah tugas demo.\n",
        "\n",
        "Tulis sebuah fungsi:\n",
        "\n",
        "def solution(A)\n",
        "\n",
        "yang, jika diberikan array A dengan N bilangan bulat, mengembalikan bilangan bulat positif terkecil (lebih besar dari 0) yang tidak muncul di A.\n",
        "\n",
        "Misalnya, jika diberikan A = [1, 3, 6, 4, 1, 2], fungsi tersebut harus mengembalikan 5.\n",
        "\n",
        "Jika diberikan A = [1, 2, 3], fungsi tersebut harus mengembalikan 4.\n",
        "\n",
        "Jika diberikan A = [−1, −3], fungsi tersebut harus mengembalikan 1.\n",
        "\n",
        "Tulis algoritma yang efisien untuk asumsi berikut:\n",
        "\n",
        "N adalah bilangan bulat dalam rentang [1..100.000];\n",
        "\n",
        "setiap elemen array A adalah bilangan bulat dalam rentang [−1.000.000..1.000.000]."
      ],
      "metadata": {
        "id": "5Z9vXqi3Fx_d"
      }
    },
    {
      "cell_type": "code",
      "source": [
        "#Smallest Missing Int\n",
        "def solution(A):\n",
        "    # Filter only positive integers and create a set\n",
        "    positives = set(x for x in A if x > 0)\n",
        "\n",
        "    # Start checking from 1 upwards\n",
        "    smallest_missing = 1\n",
        "    while smallest_missing in positives:\n",
        "        smallest_missing += 1\n",
        "\n",
        "    return smallest_missing\n",
        "\n",
        "# Example usage:\n",
        "print(solution([1, 3, 6, 4, 1, 2]))\n",
        "print(solution([1, 2, 3]))\n",
        "print(solution([1, 1000000]))\n"
      ],
      "metadata": {
        "colab": {
          "base_uri": "https://localhost:8080/"
        },
        "id": "_6oa5P-BGd9V",
        "outputId": "50ad489a-6f48-4d3e-b377-766d4eb6aa28"
      },
      "execution_count": null,
      "outputs": [
        {
          "output_type": "stream",
          "name": "stdout",
          "text": [
            "5\n",
            "4\n",
            "2\n"
          ]
        }
      ]
    },
    {
      "cell_type": "markdown",
      "source": [
        "#Prefix Sums"
      ],
      "metadata": {
        "id": "xi3-8k0nHYGH"
      }
    },
    {
      "cell_type": "markdown",
      "source": [
        "##PassingCars\n",
        "\n",
        "Count the number of passing cars on the road."
      ],
      "metadata": {
        "id": "4QAFALs7Hdm9"
      }
    },
    {
      "cell_type": "markdown",
      "source": [
        "A non-empty array A consisting of N integers is given. The consecutive elements of array A represent consecutive cars on a road.\n",
        "\n",
        "Array A contains only 0s and/or 1s:\n",
        "\n",
        "0 represents a car traveling east,\n",
        "1 represents a car traveling west.\n",
        "The goal is to count passing cars. We say that a pair of cars (P, Q), where 0 ≤ P < Q < N, is passing when P is traveling to the east and Q is traveling to the west.\n",
        "\n",
        "For example, consider array A such that:\n",
        "\n",
        "  A[0] = 0\n",
        "  A[1] = 1\n",
        "  A[2] = 0\n",
        "  A[3] = 1\n",
        "  A[4] = 1\n",
        "We have five pairs of passing cars: (0, 1), (0, 3), (0, 4), (2, 3), (2, 4).\n",
        "\n",
        "Write a function:\n",
        "\n",
        "def solution(A)\n",
        "\n",
        "that, given a non-empty array A of N integers, returns the number of pairs of passing cars.\n",
        "\n",
        "The function should return −1 if the number of pairs of passing cars exceeds 1,000,000,000.\n",
        "\n",
        "For example, given:\n",
        "\n",
        "  A[0] = 0\n",
        "  A[1] = 1\n",
        "  A[2] = 0\n",
        "  A[3] = 1\n",
        "  A[4] = 1\n",
        "the function should return 5, as explained above.\n",
        "\n",
        "Write an efficient algorithm for the following assumptions:\n",
        "\n",
        "N is an integer within the range [1..100,000];\n",
        "each element of array A is an integer that can have one of the following values: 0, 1.\n",
        "\n",
        "------------------------------------------\n",
        "Diberikan array A yang tidak kosong yang terdiri dari N bilangan bulat. Elemen-elemen array A yang berurutan mewakili mobil-mobil yang berurutan di jalan.\n",
        "\n",
        "Array A hanya berisi 0 dan/atau 1:\n",
        "\n",
        "0 mewakili mobil yang melaju ke timur,\n",
        "\n",
        "1 mewakili mobil yang melaju ke barat.\n",
        "\n",
        "Tujuannya adalah untuk menghitung mobil yang lewat. Kita katakan bahwa sepasang mobil (P, Q), di mana 0 ≤ P < Q < N, lewat ketika P melaju ke timur dan Q melaju ke barat.\n",
        "\n",
        "Misalnya, perhatikan array A sedemikian rupa sehingga:\n",
        "\n",
        "A[0] = 0\n",
        "A[1] = 1\n",
        "A[2] = 0\n",
        "A[3] = 1\n",
        "A[4] = 1\n",
        "Kita memiliki lima pasang mobil yang lewat: (0, 1), (0, 3), (0, 4), (2, 3), (2, 4).\n",
        "\n",
        "Tulis sebuah fungsi:\n",
        "\n",
        "def solution(A)\n",
        "\n",
        "yang, jika diberikan array A yang tidak kosong dengan N bilangan bulat, akan mengembalikan jumlah pasangan mobil yang lewat.\n",
        "\n",
        "Fungsi tersebut akan mengembalikan −1 jika jumlah pasangan mobil yang lewat melebihi 1.000.000.000.\n",
        "\n",
        "Misalnya, jika diberikan:\n",
        "\n",
        "A[0] = 0\n",
        "A[1] = 1\n",
        "A[2] = 0\n",
        "A[3] = 1\n",
        "A[4] = 1\n",
        "fungsi tersebut akan mengembalikan 5, seperti yang dijelaskan di atas.\n",
        "\n",
        "Tulis algoritma yang efisien untuk asumsi berikut:\n",
        "\n",
        "N adalah bilangan bulat dalam rentang [1..100.000];\n",
        "setiap elemen array A adalah bilangan bulat yang dapat memiliki salah satu nilai berikut: 0, 1."
      ],
      "metadata": {
        "id": "VG4Y4w56Hi1G"
      }
    },
    {
      "cell_type": "code",
      "source": [
        "def solution(A):\n",
        "    east_cars = 0  # Jumlah mobil yang melaju ke timur\n",
        "    passing_pairs = 0  # Jumlah pasangan mobil yang lewat\n",
        "\n",
        "    for car in A:\n",
        "        if car == 0:  # Mobil melaju ke timur\n",
        "            east_cars += 1\n",
        "        elif car == 1:  # Mobil melaju ke barat\n",
        "            passing_pairs += east_cars\n",
        "            if passing_pairs > 1000000000:\n",
        "                return -1\n",
        "\n",
        "    return passing_pairs\n",
        "\n",
        "#contoh\n",
        "A = [0, 1, 0, 1, 1]\n",
        "B = [0, 0, 1, 1]\n",
        "C = [1, 1, 1, 0]\n",
        "print(solution(A))\n",
        "print(solution(B))\n",
        "print(solution(C))"
      ],
      "metadata": {
        "colab": {
          "base_uri": "https://localhost:8080/"
        },
        "id": "w8iOLCioH0ww",
        "outputId": "d3f41bdb-88d6-449d-d964-55e37af82e40"
      },
      "execution_count": null,
      "outputs": [
        {
          "output_type": "stream",
          "name": "stdout",
          "text": [
            "5\n",
            "4\n",
            "0\n"
          ]
        }
      ]
    },
    {
      "cell_type": "markdown",
      "source": [
        "##CountDiv\n",
        "\n",
        "Compute number of integers divisible by k in range [a..b]."
      ],
      "metadata": {
        "id": "KEEAztz2IbzQ"
      }
    },
    {
      "cell_type": "markdown",
      "source": [
        "Write a function:\n",
        "\n",
        "def solution(A, B, K)\n",
        "\n",
        "that, given three integers A, B and K, returns the number of integers within the range [A..B] that are divisible by K, i.e.:\n",
        "\n",
        "{ i : A ≤ i ≤ B, i mod K = 0 }\n",
        "\n",
        "For example, for A = 6, B = 11 and K = 2, your function should return 3, because there are three numbers divisible by 2 within the range [6..11], namely 6, 8 and 10.\n",
        "\n",
        "Write an efficient algorithm for the following assumptions:\n",
        "\n",
        "A and B are integers within the range [0..2,000,000,000];\n",
        "K is an integer within the range [1..2,000,000,000];\n",
        "A ≤ B.\n",
        "\n",
        "-------------------------------------------\n",
        "Tulis sebuah fungsi:\n",
        "\n",
        "def solution(A, B, K)\n",
        "\n",
        "yang, jika diberikan tiga bilangan bulat A, B, dan K, mengembalikan jumlah bilangan bulat dalam rentang [A..B] yang habis dibagi K, yaitu:\n",
        "\n",
        "{ i : A ≤ i ≤ B, i mod K = 0 }\n",
        "\n",
        "Misalnya, untuk A = 6, B = 11, dan K = 2, fungsi Anda harus mengembalikan 3, karena ada tiga angka yang habis dibagi 2 dalam rentang [6..11], yaitu 6, 8, dan 10.\n",
        "\n",
        "Tulis algoritma yang efisien untuk asumsi berikut:\n",
        "\n",
        "A dan B adalah bilangan bulat dalam rentang [0..2.000.000.000];\n",
        "\n",
        "K adalah bilangan bulat dalam rentang [1..2.000.000.000];\n",
        "\n",
        "A ≤ B."
      ],
      "metadata": {
        "id": "PruulvtwIgjS"
      }
    },
    {
      "cell_type": "code",
      "source": [
        "def solution(A, B, K):\n",
        "    # Bilangan habis dibagi K hingga B\n",
        "    count_up_to_B = B // K\n",
        "    # Bilangan habis dibagi K hingga A-1\n",
        "    count_up_to_A_minus_1 = (A - 1) // K\n",
        "    # Selisih keduanya memberikan jumlah bilangan habis dibagi K dalam [A..B]\n",
        "    return count_up_to_B - count_up_to_A_minus_1\n"
      ],
      "metadata": {
        "id": "Tp4v9LM5JQhZ"
      },
      "execution_count": null,
      "outputs": []
    },
    {
      "cell_type": "code",
      "source": [
        "A = 6\n",
        "B = 11\n",
        "K = 2\n",
        "print(solution(A, B, K))  # Output: 3 (Bilangan yang habis dibagi 2 antara 6 dan 11 adalah 6, 8, dan 10.)\n"
      ],
      "metadata": {
        "colab": {
          "base_uri": "https://localhost:8080/"
        },
        "id": "8ixp-Kv5JUdq",
        "outputId": "88030931-3601-410b-a0b6-a06ef4dc0d37"
      },
      "execution_count": null,
      "outputs": [
        {
          "output_type": "stream",
          "name": "stdout",
          "text": [
            "3\n"
          ]
        }
      ]
    },
    {
      "cell_type": "code",
      "source": [
        "A = 10\n",
        "B = 10\n",
        "K = 5\n",
        "print(solution(A, B, K))  # Output: 1 (Hanya ada satu bilangan (10) yang habis dibagi 5 dalam rentang [10..10])\n"
      ],
      "metadata": {
        "colab": {
          "base_uri": "https://localhost:8080/"
        },
        "id": "w84dBPh_JZTt",
        "outputId": "f4765d95-e64b-4584-b495-5d7d407a31b4"
      },
      "execution_count": null,
      "outputs": [
        {
          "output_type": "stream",
          "name": "stdout",
          "text": [
            "1\n"
          ]
        }
      ]
    },
    {
      "cell_type": "code",
      "source": [
        "A = 0\n",
        "B = 10\n",
        "K = 7\n",
        "print(solution(A, B, K))  # Output: 2 (Bilangan yang habis dibagi 7 dalam rentang [ 0..10 ] [0..10] adalah 0 dan 7.)\n"
      ],
      "metadata": {
        "colab": {
          "base_uri": "https://localhost:8080/"
        },
        "id": "z4tJ2xHhJa7l",
        "outputId": "ea39572c-5e08-44bf-91f5-a05d39addff9"
      },
      "execution_count": null,
      "outputs": [
        {
          "output_type": "stream",
          "name": "stdout",
          "text": [
            "2\n"
          ]
        }
      ]
    }
  ]
}